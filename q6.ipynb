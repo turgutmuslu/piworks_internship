{
  "nbformat": 4,
  "nbformat_minor": 0,
  "metadata": {
    "colab": {
      "provenance": []
    },
    "kernelspec": {
      "name": "python3",
      "display_name": "Python 3"
    },
    "language_info": {
      "name": "python"
    }
  },
  "cells": [
    {
      "cell_type": "code",
      "execution_count": 19,
      "metadata": {
        "colab": {
          "base_uri": "https://localhost:8080/"
        },
        "id": "GvDYAEMjYtEO",
        "outputId": "5881d7ea-0061-4e84-c815-a1f808c04e5f"
      },
      "outputs": [
        {
          "output_type": "stream",
          "name": "stdout",
          "text": [
            "1466571.0\n"
          ]
        }
      ],
      "source": [
        "import pandas as pd, seaborn as sns\n",
        "\n",
        "df = pd.read_csv(\"country_vaccination_stats.csv\")\n",
        "\n",
        "if df['daily_vaccinations'].isnull().all():\n",
        "  minm = 0\n",
        "else:\n",
        "  minm = df['daily_vaccinations'].min()\n",
        "\n",
        "df['daily_vaccinations'].fillna(minm, inplace=True)\n",
        "\n",
        "df2 = df.loc[df['date'] == \"1/6/2021\"]\n",
        "print(df2['daily_vaccinations'].sum())"
      ]
    }
  ]
}