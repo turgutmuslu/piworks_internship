{
  "nbformat": 4,
  "nbformat_minor": 0,
  "metadata": {
    "colab": {
      "provenance": []
    },
    "kernelspec": {
      "name": "python3",
      "display_name": "Python 3"
    },
    "language_info": {
      "name": "python"
    }
  },
  "cells": [
    {
      "cell_type": "code",
      "execution_count": 9,
      "metadata": {
        "colab": {
          "base_uri": "https://localhost:8080/"
        },
        "id": "GvDYAEMjYtEO",
        "outputId": "85e1b6a3-a227-4e49-c932-54d3581f925c"
      },
      "outputs": [
        {
          "output_type": "execute_result",
          "data": {
            "text/plain": [
              "False"
            ]
          },
          "metadata": {},
          "execution_count": 9
        }
      ],
      "source": [
        "import pandas as pd, seaborn as sns\n",
        "\n",
        "df = pd.read_csv(\"country_vaccination_stats.csv\")\n",
        "\n",
        "df['daily_vaccinations'].fillna(df['daily_vaccinations'].min(), inplace=True)\n",
        "\n",
        "df.isnull().values.any()"
      ]
    }
  ]
}