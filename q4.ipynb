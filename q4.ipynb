{
  "nbformat": 4,
  "nbformat_minor": 0,
  "metadata": {
    "colab": {
      "provenance": []
    },
    "kernelspec": {
      "name": "python3",
      "display_name": "Python 3"
    },
    "language_info": {
      "name": "python"
    }
  },
  "cells": [
    {
      "cell_type": "code",
      "execution_count": 10,
      "metadata": {
        "colab": {
          "base_uri": "https://localhost:8080/"
        },
        "id": "GvDYAEMjYtEO",
        "outputId": "c82caeb0-2217-44b1-fa1f-d54b5dc2f1bd"
      },
      "outputs": [
        {
          "output_type": "execute_result",
          "data": {
            "text/plain": [
              "False"
            ]
          },
          "metadata": {},
          "execution_count": 10
        }
      ],
      "source": [
        "import pandas as pd, seaborn as sns\n",
        "\n",
        "df = pd.read_csv(\"country_vaccination_stats.csv\")\n",
        "\n",
        "if df['daily_vaccinations'].isnull().all():\n",
        "  minm = 0\n",
        "else:\n",
        "  minm = df['daily_vaccinations'].min()\n",
        "\n",
        "df['daily_vaccinations'].fillna(minm, inplace=True)\n",
        "\n",
        "df.isnull().values.any()"
      ]
    }
  ]
}