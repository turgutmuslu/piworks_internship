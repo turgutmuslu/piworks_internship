{
  "nbformat": 4,
  "nbformat_minor": 0,
  "metadata": {
    "colab": {
      "provenance": []
    },
    "kernelspec": {
      "name": "python3",
      "display_name": "Python 3"
    },
    "language_info": {
      "name": "python"
    }
  },
  "cells": [
    {
      "cell_type": "code",
      "execution_count": 14,
      "metadata": {
        "colab": {
          "base_uri": "https://localhost:8080/"
        },
        "id": "GvDYAEMjYtEO",
        "outputId": "8198d54d-6c12-4c12-b35a-81179a19c4b1"
      },
      "outputs": [
        {
          "output_type": "execute_result",
          "data": {
            "text/plain": [
              "country\n",
              "United States    378253.0\n",
              "China            276786.0\n",
              "India            173922.0\n",
              "Name: daily_vaccinations, dtype: float64"
            ]
          },
          "metadata": {},
          "execution_count": 14
        }
      ],
      "source": [
        "import pandas as pd, seaborn as sns\n",
        "\n",
        "df = pd.read_csv(\"country_vaccination_stats.csv\")\n",
        "\n",
        "if df['daily_vaccinations'].isnull().all():\n",
        "  minm = 0\n",
        "else:\n",
        "  minm = df['daily_vaccinations'].min()\n",
        "\n",
        "df['daily_vaccinations'].fillna(minm, inplace=True)\n",
        "\n",
        "df.groupby('country')['daily_vaccinations'].median().sort_values(ascending=False).head(3)\n"
      ]
    }
  ]
}